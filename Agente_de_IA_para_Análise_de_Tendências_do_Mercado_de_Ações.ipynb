{
  "nbformat": 4,
  "nbformat_minor": 0,
  "metadata": {
    "colab": {
      "provenance": []
    },
    "kernelspec": {
      "name": "python3",
      "display_name": "Python 3"
    },
    "language_info": {
      "name": "python"
    }
  },
  "cells": [
    {
      "cell_type": "markdown",
      "source": [
        "Este projeto desenvolverá um sistema que utiliza agentes de IA para analisar tendências do mercado de ações. O sistema irá:\n",
        "\n",
        "Coletar o ticker da ação de interesse do usuário.\n",
        "Utilizar um agente para buscar notícias, análises e dados históricos relevantes sobre a ação no Google.\n",
        "Utilizar outro agente para analisar as informações coletadas e identificar tendências de alta ou baixa, fatores que influenciam o preço da ação e possíveis previsões.\n",
        "Apresentar a análise da tendência do mercado de ações ao usuário."
      ],
      "metadata": {
        "id": "0oEdM3-Ro1sZ"
      }
    },
    {
      "cell_type": "code",
      "source": [
        "# Instalação de Bibliotecas\n",
        "%pip -q install google-genai\n",
        "!pip install -q google-adk\n",
        "\n",
        "# Configuração da API Key\n",
        "import os\n",
        "from google.colab import userdata\n",
        "\n",
        "os.environ[\"GOOGLE_API_KEY\"] = userdata.get('GOOGLE_API_KEY')\n",
        "\n",
        "# Configuração do Cliente Gemini\n",
        "from google import genai\n",
        "\n",
        "client = genai.Client()\n",
        "MODEL_ID = \"gemini-2.0-flash\"  # Ou outro modelo mais adequado\n",
        "\n",
        "# Funções Auxiliares\n",
        "from IPython.display import HTML, Markdown\n",
        "import textwrap\n",
        "from google.genai import types\n",
        "from google.adk.agents import Agent\n",
        "from google.adk.runners import Runner\n",
        "from google.adk.sessions import InMemorySessionService\n",
        "from google.adk.tools import google_search\n",
        "from datetime import date\n",
        "import warnings\n",
        "\n",
        "warnings.filterwarnings(\"ignore\")\n",
        "\n",
        "def call_agent(agent: Agent, message_text: str) -> str:\n",
        "    session_service = InMemorySessionService()\n",
        "    session = session_service.create_session(app_name=agent.name, user_id=\"user1\", session_id=\"session1\")\n",
        "    runner = Runner(agent=agent, app_name=agent.name, session_service=session_service)\n",
        "    content = types.Content(role=\"user\", parts=[types.Part(text=message_text)])\n",
        "\n",
        "    final_response = \"\"\n",
        "    for event in runner.run(user_id=\"user1\", session_id=\"session1\", new_message=content):\n",
        "        if event.is_final_response():\n",
        "          for part in event.content.parts:\n",
        "            if part.text is not None:\n",
        "              final_response += part.text\n",
        "              final_response += \"\\n\"\n",
        "    return final_response\n",
        "\n",
        "def to_markdown(text):\n",
        "  text = text.replace('•', '  *')\n",
        "  return Markdown(textwrap.indent(text, '> ', predicate=lambda _: True))\n",
        "\n",
        "# Definição dos Agentes\n",
        "def agente_buscador_acoes():\n",
        "    buscador_acoes = Agent(\n",
        "        name=\"agente_buscador_acoes\",\n",
        "        model=\"gemini-2.0-flash\",\n",
        "        instruction=\"\"\"\n",
        "        Você é um agente de busca de informações sobre ações. Sua tarefa é utilizar a ferramenta google_search\n",
        "        para buscar notícias, análises, dados históricos e outras informações relevantes sobre a ação\n",
        "        fornecida pelo usuário.\n",
        "        \"\"\",\n",
        "        description=\"Agente que busca informações sobre ações no Google.\",\n",
        "        tools=[google_search]\n",
        "    )\n",
        "    return buscador_acoes\n",
        "\n",
        "def agente_analista_acoes():\n",
        "    analista_acoes = Agent(\n",
        "        name=\"agente_analista_acoes\",\n",
        "        model=\"gemini-2.0-flash\",\n",
        "        instruction=\"\"\"\n",
        "        Você é um analista de ações. Sua tarefa é analisar as informações fornecidas,\n",
        "        identificar tendências de alta ou baixa, fatores que influenciam o preço da ação\n",
        "        (notícias, resultados financeiros, eventos do setor, etc.) e fornecer possíveis previsões\n",
        "        sobre o comportamento futuro da ação.\n",
        "        \"\"\",\n",
        "        description=\"Agente que analisa tendências do mercado de ações.\",\n",
        "    )\n",
        "    return analista_acoes\n",
        "\n",
        "# Fluxo de Execução do Sistema\n",
        "print(\"📈 Iniciando o Sistema de Análise de Tendências do Mercado de Ações 📈\")\n",
        "\n",
        "# Agentes\n",
        "buscador_acoes = agente_buscador_acoes()\n",
        "analista_acoes = agente_analista_acoes()\n",
        "\n",
        "# Coletar o ticker da ação do usuário\n",
        "ticker_acao = input(\"Digite o ticker da ação que deseja analisar (ex: AAPL, GOOGL): \")\n",
        "\n",
        "# Buscar as informações sobre a ação\n",
        "mensagem_buscador_acoes = f\"Buscar informações sobre a ação: {ticker_acao}\"\n",
        "informacoes_acao = call_agent(buscador_acoes, mensagem_buscador_acoes)\n",
        "\n",
        "# Analisar as informações e fornecer a análise da tendência\n",
        "mensagem_analista_acoes = f\"Analisar as informações da ação {ticker_acao}: {informacoes_acao}\"\n",
        "analise_tendencia = call_agent(analista_acoes, mensagem_analista_acoes)\n",
        "\n",
        "# Apresentar a análise ao usuário\n",
        "print(\"\\n--- 📝 Análise da Tendência do Mercado de Ações ---\\n\")\n",
        "display(to_markdown(analise_tendencia))\n",
        "\n",
        "# Exemplo de Execução\n",
        "# (O exemplo está no código acima)"
      ],
      "metadata": {
        "colab": {
          "base_uri": "https://localhost:8080/",
          "height": 794
        },
        "id": "EgitBOxykVVW",
        "outputId": "7bcc74b2-62e0-4adc-c7fa-72e66b8dd2a9"
      },
      "execution_count": 10,
      "outputs": [
        {
          "output_type": "stream",
          "name": "stdout",
          "text": [
            "📈 Iniciando o Sistema de Análise de Tendências do Mercado de Ações 📈\n",
            "Digite o ticker da ação que deseja analisar (ex: AAPL, GOOGL): Qual o valor da ação  Microsoft BDR atualmente? Ela tem perspectiva de crescimento?\n",
            "\n",
            "--- 📝 Análise da Tendência do Mercado de Ações ---\n",
            "\n"
          ]
        },
        {
          "output_type": "display_data",
          "data": {
            "text/plain": [
              "<IPython.core.display.Markdown object>"
            ],
            "text/markdown": "> ## Análise da Ação Microsoft BDR (MSFT34)\n> \n> **Resumo:** A Microsoft BDR (MSFT34) apresenta um valor de mercado em torno de R$106,50, com recente valorização positiva. As perspectivas de crescimento para a ação são otimistas, impulsionadas por diversos fatores, incluindo resultados financeiros sólidos, investimentos em IA e o potencial do setor de nuvem.\n> \n> **Tendências Identificadas:**\n> \n> *   **Tendência de Alta:** A ação MSFT34 demonstra uma tendência de alta, corroborada pelo fechamento positivo recente e pelas previsões de analistas da Wall Street.\n> *   **Crescimento Contínuo:** A Microsoft tem demonstrado crescimento contínuo, sustentado por resultados financeiros positivos e investimentos estratégicos.\n> \n> **Fatores que Influenciam o Preço da Ação:**\n> \n> *   **Resultados Financeiros:** O desempenho financeiro da Microsoft, especialmente o crescimento em nuvem e produtividade, exerce um impacto direto no preço da ação. Resultados positivos tendem a impulsionar o preço, enquanto resultados negativos podem levar a quedas.\n> *   **Investimentos em IA:** Os investimentos da Microsoft em Inteligência Artificial (IA) são um fator crucial. A crescente demanda por serviços de IA e os consequentes investimentos da empresa sinalizam um potencial de crescimento futuro, influenciando positivamente o preço da ação.\n> *   **Aquisição da Activision:** A aquisição da Activision é um evento significativo que pode afetar a composição de margem dos negócios de jogos da Microsoft a longo prazo. O impacto desta aquisição no desempenho financeiro geral da empresa influenciará o preço da ação.\n> *   **Setor de Nuvem:** O potencial de crescimento do setor de armazenamento e processamento de dados em nuvem é um fator chave. O crescimento projetado de 20% para o próximo ano indica um ambiente favorável para a Microsoft, que é um dos principais players nesse mercado.\n> *   **Sentimento do Mercado:** O sentimento geral do mercado em relação à tecnologia e ações de crescimento também desempenha um papel. Um mercado otimista tende a beneficiar ações como a MSFT34.\n> \n> **Previsões Possíveis:**\n> \n> *   **Continuação da Valorização:** Considerando os fatores mencionados, é provável que a ação MSFT34 continue a se valorizar no futuro.\n> *   **Crescimento Impulsionado por IA e Nuvem:** O crescimento da Microsoft será impulsionado principalmente pelos seus investimentos em IA e pela expansão do setor de nuvem.\n> *   **Volatilidade:** É importante notar que o mercado de ações está sujeito a volatilidade. Eventos inesperados, mudanças nas condições econômicas ou notícias negativas sobre a Microsoft podem impactar o preço da ação.\n> \n> **Recomendações:**\n> \n> *   **Monitoramento Contínuo:** É fundamental monitorar continuamente os resultados financeiros da Microsoft, os desenvolvimentos no setor de IA e nuvem, e o impacto da aquisição da Activision.\n> *   **Considerar Riscos:** Antes de tomar qualquer decisão de investimento, é importante considerar os riscos associados ao mercado de ações e diversificar a carteira.\n> \n> **Disclaimer:** Esta análise é baseada nas informações fornecidas e não constitui uma recomendação de investimento. É fundamental consultar um profissional financeiro antes de tomar qualquer decisão de investimento.\n> \n"
          },
          "metadata": {}
        }
      ]
    }
  ]
}